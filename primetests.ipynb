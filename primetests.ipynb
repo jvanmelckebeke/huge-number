{
 "cells": [
  {
   "cell_type": "code",
   "execution_count": 26,
   "metadata": {},
   "outputs": [],
   "source": [
    "WITNESSES = [2, 3, 5, 7, 11, 13, 17, 19, 23, 29, 31, 37, 41]\n",
    "\n",
    "\n",
    "def miller_rabin_test(p):\n",
    "    def calc_dr():\n",
    "        pa = p - 1\n",
    "        b = 0\n",
    "        while pa %2 == 0:\n",
    "            b += 1\n",
    "            pa /= 2\n",
    "        return b, pa\n",
    "\n",
    "    # rewrite p as 2^r * d + 1\n",
    "    r, d = calc_dr()\n",
    "    \n",
    "    for witness in WITNESSES:\n",
    "        if p < witness -2:\n",
    "            break\n",
    "        x = witness ** d % p\n",
    "        if x == 1 or x == p-1:\n",
    "            continue\n",
    "\n",
    "        checks_out = False\n",
    "        for _ in range(r):\n",
    "            x = x**2 % p\n",
    "            r -= 1\n",
    "            if x == p-1:\n",
    "                checks_out = True\n",
    "        if not checks_out:\n",
    "            return False\n",
    "    return True"
   ]
  },
  {
   "cell_type": "code",
   "execution_count": 27,
   "metadata": {},
   "outputs": [],
   "source": [
    "def show_miller_rabin(poss_prime):\n",
    "    if miller_rabin_test(poss_prime):\n",
    "        print(f\"{poss_prime} is possibly a prime\")\n",
    "    else:\n",
    "        print(f\"{poss_prime} is no prime\")"
   ]
  },
  {
   "cell_type": "code",
   "execution_count": 28,
   "metadata": {},
   "outputs": [
    {
     "name": "stdout",
     "output_type": "stream",
     "text": [
      "397 is no prime\n"
     ]
    }
   ],
   "source": [
    "show_miller_rabin(397)"
   ]
  },
  {
   "cell_type": "code",
   "execution_count": null,
   "metadata": {},
   "outputs": [],
   "source": []
  }
 ],
 "metadata": {
  "interpreter": {
   "hash": "c2defb122fd0e90caba98662ca8188e1df33492be0e575ba980927adbc60fd89"
  },
  "kernelspec": {
   "display_name": "Python 3.9.7 64-bit ('divider': conda)",
   "language": "python",
   "name": "python3"
  },
  "language_info": {
   "codemirror_mode": {
    "name": "ipython",
    "version": 3
   },
   "file_extension": ".py",
   "mimetype": "text/x-python",
   "name": "python",
   "nbconvert_exporter": "python",
   "pygments_lexer": "ipython3",
   "version": "3.9.7"
  },
  "orig_nbformat": 4
 },
 "nbformat": 4,
 "nbformat_minor": 2
}
